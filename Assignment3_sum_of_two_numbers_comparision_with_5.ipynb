{
 "cells": [
  {
   "cell_type": "code",
   "execution_count": 3,
   "metadata": {},
   "outputs": [
    {
     "name": "stdout",
     "output_type": "stream",
     "text": [
      "enter x value1\n",
      "enter y value2\n",
      "The sum of two numbers is less than 5\n"
     ]
    }
   ],
   "source": [
    "x=int(input(\"enter x value\"))\n",
    "y=int(input(\"enter y value\"))\n",
    "if x+y>5:\n",
    "    print(\"The sum of two numbers is greater than 5\")\n",
    "elif x+y<5:\n",
    "    print(\"The sum of two numbers is less than 5\")\n",
    "else:\n",
    "    print(\"The sum of two numbers is equal to 5\")"
   ]
  },
  {
   "cell_type": "code",
   "execution_count": null,
   "metadata": {},
   "outputs": [],
   "source": []
  },
  {
   "cell_type": "code",
   "execution_count": null,
   "metadata": {},
   "outputs": [],
   "source": []
  }
 ],
 "metadata": {
  "kernelspec": {
   "display_name": "Python 3",
   "language": "python",
   "name": "python3"
  },
  "language_info": {
   "codemirror_mode": {
    "name": "ipython",
    "version": 3
   },
   "file_extension": ".py",
   "mimetype": "text/x-python",
   "name": "python",
   "nbconvert_exporter": "python",
   "pygments_lexer": "ipython3",
   "version": "3.8.3"
  }
 },
 "nbformat": 4,
 "nbformat_minor": 4
}
